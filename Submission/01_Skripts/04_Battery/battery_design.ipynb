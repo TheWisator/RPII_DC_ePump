{
 "cells": [
  {
   "attachments": {},
   "cell_type": "markdown",
   "id": "60d54c55-6f60-4efd-981b-dece7acb1b65",
   "metadata": {},
   "source": [
    "# Battery Design"
   ]
  },
  {
   "cell_type": "code",
   "execution_count": 2,
   "id": "d15672c0-5515-458e-bf9a-0b23c3e7e57a",
   "metadata": {},
   "outputs": [],
   "source": [
    "P_Pump_Total = 5000 # W"
   ]
  },
  {
   "cell_type": "code",
   "execution_count": 3,
   "id": "f9d5caf5-96fa-4146-ac01-3131e2084a11",
   "metadata": {},
   "outputs": [
    {
     "name": "stdout",
     "output_type": "stream",
     "text": [
      "P_Motor_Inverter = 4629.63 [W] = 4.63 [kW]\n",
      "P_Motor_Inverter_loss = 629.63 [W] = 0.63 [kW]\n",
      "P_Battery = 5144.03 [W] = 5.14 [kW]\n",
      "P_Battery_loss = 514.40 [W] = 0.51 [kW]\n"
     ]
    }
   ],
   "source": [
    "eta_Motor_Inverter = 0.864      # source: https://www.welkon.net/eff/efficiency.html\n",
    "P_Motor_Inverter = P_Pump_Total / eta_Motor_Inverter\n",
    "P_Motor_Inverter_loss = P_Motor_Inverter * (1-eta_Motor_Inverter)\n",
    "# Battery losses -> cooling\n",
    "eta_Battery = 0.90\n",
    "P_Battery = P_Motor_Inverter / eta_Battery\n",
    "P_Battery_loss = P_Battery * (1-eta_Battery)\n",
    "\n",
    "print(f'P_Motor_Inverter = {P_Motor_Inverter:0.2f} [W] = {P_Motor_Inverter/1e3:0.2f} [kW]')\n",
    "print(f'P_Motor_Inverter_loss = {P_Motor_Inverter_loss:0.2f} [W] = {P_Motor_Inverter_loss/1e3:0.2f} [kW]')\n",
    "print(f'P_Battery = {P_Battery:0.2f} [W] = {P_Battery/1e3:0.2f} [kW]')\n",
    "print(f'P_Battery_loss = {P_Battery_loss:0.2f} [W] = {P_Battery_loss/1e3:0.2f} [kW]')"
   ]
  },
  {
   "attachments": {},
   "cell_type": "markdown",
   "id": "450ede08-3908-4b83-8e93-0508f866acd3",
   "metadata": {},
   "source": [
    "Li polymer"
   ]
  },
  {
   "cell_type": "code",
   "execution_count": 4,
   "id": "7b194003-777b-4bf7-a38c-28e99db830d2",
   "metadata": {},
   "outputs": [],
   "source": [
    "# assume flight profile: full throttle over time of flight\n",
    "def fit_Battery(E_density,P_density):\n",
    "    t=240 # s\n",
    "    E_total = t * P_Battery\n",
    "    m_Battery_E = E_total / E_density\n",
    "    m_Battery_P = P_Battery / P_density\n",
    "    m_Battery = max(m_Battery_E,m_Battery_P)\n",
    "    print(f'E_total = {E_total:0.2f} [Ws] = {E_total/(1e3*3600):0.3f} [kWh]')\n",
    "    print(f'm_Battery_E = {m_Battery_E:0.3f} [kg]')\n",
    "    print(f'm_Battery_P = {m_Battery_P:0.3f} [kg]')\n",
    "    print()\n",
    "    print(f'm_Battery = {m_Battery:0.3f} [kg]')"
   ]
  },
  {
   "cell_type": "code",
   "execution_count": 5,
   "id": "74b81658-7a8e-4fdb-a495-184e3864059a",
   "metadata": {},
   "outputs": [
    {
     "name": "stdout",
     "output_type": "stream",
     "text": [
      "E_total = 1234567.90 [Ws] = 0.343 [kWh]\n",
      "m_Battery_E = 1.055 [kg]\n",
      "m_Battery_P = 7.914 [kg]\n",
      "\n",
      "m_Battery = 7.914 [kg]\n"
     ]
    }
   ],
   "source": [
    "# Li polymer Battery\n",
    "E_density_Li_poly = 325 * (60*60) # W*s/kg\n",
    "P_density_Li_poly = 650 # W/kg\n",
    "fit_Battery(E_density_Li_poly,P_density_Li_poly)"
   ]
  },
  {
   "cell_type": "code",
   "execution_count": null,
   "id": "d395b8fd-1bea-412a-b174-37487a04948e",
   "metadata": {},
   "outputs": [],
   "source": [
    "\n"
   ]
  }
 ],
 "metadata": {
  "kernelspec": {
   "display_name": "Python 3 (ipykernel)",
   "language": "python",
   "name": "python3"
  },
  "language_info": {
   "codemirror_mode": {
    "name": "ipython",
    "version": 3
   },
   "file_extension": ".py",
   "mimetype": "text/x-python",
   "name": "python",
   "nbconvert_exporter": "python",
   "pygments_lexer": "ipython3",
   "version": "3.10.11"
  }
 },
 "nbformat": 4,
 "nbformat_minor": 5
}
